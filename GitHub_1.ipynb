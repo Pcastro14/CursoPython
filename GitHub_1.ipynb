{
  "nbformat": 4,
  "nbformat_minor": 0,
  "metadata": {
    "colab": {
      "provenance": [],
      "authorship_tag": "ABX9TyNYmxxCq3MJbsqO8ubtPKgz",
      "include_colab_link": true
    },
    "kernelspec": {
      "name": "python3",
      "display_name": "Python 3"
    },
    "language_info": {
      "name": "python"
    }
  },
  "cells": [
    {
      "cell_type": "markdown",
      "metadata": {
        "id": "view-in-github",
        "colab_type": "text"
      },
      "source": [
        "<a href=\"https://colab.research.google.com/github/Pcastro14/CursoPython/blob/main/GitHub_1.ipynb\" target=\"_parent\"><img src=\"https://colab.research.google.com/assets/colab-badge.svg\" alt=\"Open In Colab\"/></a>"
      ]
    },
    {
      "cell_type": "markdown",
      "source": [
        "***INTRODUCCION A PYTHON***\n",
        "\n",
        "CURSO PYTHON\n",
        "\n",
        "UNICAFAM\n",
        "\n",
        "ESTUDIANTE: Pedro Castro Meza\n",
        "\n",
        "DOCENTE: Nicolas Mojica\n",
        "\n",
        "\n",
        "\n",
        "---\n",
        "\n",
        "\n"
      ],
      "metadata": {
        "id": "O9QkQiNCAK5w"
      }
    },
    {
      "cell_type": "code",
      "execution_count": 1,
      "metadata": {
        "colab": {
          "base_uri": "https://localhost:8080/"
        },
        "id": "ivDvkAyG7qq5",
        "outputId": "d884455e-59a3-471e-c8a1-02ab7e6efc49"
      },
      "outputs": [
        {
          "output_type": "stream",
          "name": "stdout",
          "text": [
            "Hola mundo\n"
          ]
        }
      ],
      "source": [
        "#Para introducior comentarios usa numeral\n",
        "print (\"Hola mundo\")"
      ]
    },
    {
      "cell_type": "code",
      "source": [
        "#Para insertar comentarios de mas de 2 lineas uso comillas \"\"\n",
        "\"\"\"\n",
        "Este es\n",
        "un comentario\n",
        "multilinea\n",
        "\"\"\"\n",
        "print (\"Hola mundo\")"
      ],
      "metadata": {
        "colab": {
          "base_uri": "https://localhost:8080/"
        },
        "id": "gNkNVBbeEXKY",
        "outputId": "d15f673c-3d63-4c1d-89e9-0f1f8eb8dd74"
      },
      "execution_count": 2,
      "outputs": [
        {
          "output_type": "stream",
          "name": "stdout",
          "text": [
            "Hola mundo\n"
          ]
        }
      ]
    },
    {
      "cell_type": "markdown",
      "source": [
        "***VARIABLES***"
      ],
      "metadata": {
        "id": "Yzy1X27iFEiw"
      }
    },
    {
      "cell_type": "code",
      "source": [
        "#Una variable solo se nombra sin caracteres especiales, sin espacios, en minuscula\n",
        "var = \"Hola mundo\"\n",
        "print (var)"
      ],
      "metadata": {
        "colab": {
          "base_uri": "https://localhost:8080/"
        },
        "id": "OmJ8OlnLFRPk",
        "outputId": "929d131b-c804-49d9-c480-9a5d120e9634"
      },
      "execution_count": 3,
      "outputs": [
        {
          "output_type": "stream",
          "name": "stdout",
          "text": [
            "Hola mundo\n"
          ]
        }
      ]
    },
    {
      "cell_type": "code",
      "source": [
        "var=\"Adios mundo\"\n",
        "print (var)"
      ],
      "metadata": {
        "colab": {
          "base_uri": "https://localhost:8080/"
        },
        "id": "Sf7BTuA-GI0I",
        "outputId": "d7584451-2cf1-4d4f-90af-de460d831633"
      },
      "execution_count": 5,
      "outputs": [
        {
          "output_type": "stream",
          "name": "stdout",
          "text": [
            "Adios mundo\n"
          ]
        }
      ]
    },
    {
      "cell_type": "markdown",
      "source": [
        "***TIPOS DE DATOS***"
      ],
      "metadata": {
        "id": "tWAJLqJCG6K3"
      }
    },
    {
      "cell_type": "code",
      "source": [
        "entero = 42"
      ],
      "metadata": {
        "id": "l5_s02XdHDKW"
      },
      "execution_count": 6,
      "outputs": []
    },
    {
      "cell_type": "code",
      "source": [
        "flotante= 3.14159"
      ],
      "metadata": {
        "id": "ftQ8mWIAHLeb"
      },
      "execution_count": 10,
      "outputs": []
    },
    {
      "cell_type": "code",
      "source": [
        "#Conversion Tipo de Datos\n",
        "\n",
        "entero = int(flotante) #Es igual a 3\n",
        "flotante = float(5) #Es igual a 5.0\n"
      ],
      "metadata": {
        "id": "W2A7yaBhHgfn"
      },
      "execution_count": null,
      "outputs": []
    }
  ]
}