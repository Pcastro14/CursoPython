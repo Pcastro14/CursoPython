{
  "nbformat": 4,
  "nbformat_minor": 0,
  "metadata": {
    "colab": {
      "provenance": [],
      "authorship_tag": "ABX9TyO0UzvSA3hJhb4g530e3Mgc",
      "include_colab_link": true
    },
    "kernelspec": {
      "name": "python3",
      "display_name": "Python 3"
    },
    "language_info": {
      "name": "python"
    }
  },
  "cells": [
    {
      "cell_type": "markdown",
      "metadata": {
        "id": "view-in-github",
        "colab_type": "text"
      },
      "source": [
        "<a href=\"https://colab.research.google.com/github/Pcastro14/CursoPython/blob/main/GitHub_1.ipynb\" target=\"_parent\"><img src=\"https://colab.research.google.com/assets/colab-badge.svg\" alt=\"Open In Colab\"/></a>"
      ]
    },
    {
      "cell_type": "markdown",
      "source": [
        "***INTRODUCCION A PYTHON***\n",
        "\n",
        "CURSO PYTHON\n",
        "\n",
        "UNICAFAM\n",
        "\n",
        "ESTUDIANTE: Pedro Castro Meza\n",
        "\n",
        "DOCENTE: Nicolas Mojica\n",
        "\n",
        "\n",
        "\n",
        "---\n",
        "\n",
        "\n"
      ],
      "metadata": {
        "id": "O9QkQiNCAK5w"
      }
    },
    {
      "cell_type": "code",
      "execution_count": null,
      "metadata": {
        "colab": {
          "base_uri": "https://localhost:8080/"
        },
        "id": "ivDvkAyG7qq5",
        "outputId": "d884455e-59a3-471e-c8a1-02ab7e6efc49"
      },
      "outputs": [
        {
          "output_type": "stream",
          "name": "stdout",
          "text": [
            "Hola mundo\n"
          ]
        }
      ],
      "source": [
        "#Para introducior comentarios usa numeral\n",
        "print (\"Hola mundo\")"
      ]
    },
    {
      "cell_type": "code",
      "source": [
        "#Para insertar comentarios de mas de 2 lineas uso comillas \"\"\n",
        "\"\"\"\n",
        "Este es\n",
        "un comentario\n",
        "multilinea\n",
        "\"\"\"\n",
        "print (\"Hola mundo\")"
      ],
      "metadata": {
        "colab": {
          "base_uri": "https://localhost:8080/"
        },
        "id": "gNkNVBbeEXKY",
        "outputId": "d15f673c-3d63-4c1d-89e9-0f1f8eb8dd74"
      },
      "execution_count": null,
      "outputs": [
        {
          "output_type": "stream",
          "name": "stdout",
          "text": [
            "Hola mundo\n"
          ]
        }
      ]
    },
    {
      "cell_type": "markdown",
      "source": [
        "***VARIABLES***"
      ],
      "metadata": {
        "id": "Yzy1X27iFEiw"
      }
    },
    {
      "cell_type": "code",
      "source": [
        "#Una variable solo se nombra sin caracteres especiales, sin espacios, en minuscula\n",
        "var = \"Hola mundo\"\n",
        "print (var)"
      ],
      "metadata": {
        "colab": {
          "base_uri": "https://localhost:8080/"
        },
        "id": "OmJ8OlnLFRPk",
        "outputId": "929d131b-c804-49d9-c480-9a5d120e9634"
      },
      "execution_count": null,
      "outputs": [
        {
          "output_type": "stream",
          "name": "stdout",
          "text": [
            "Hola mundo\n"
          ]
        }
      ]
    },
    {
      "cell_type": "code",
      "source": [
        "var=\"Adios mundo\"\n",
        "print (var)"
      ],
      "metadata": {
        "colab": {
          "base_uri": "https://localhost:8080/"
        },
        "id": "Sf7BTuA-GI0I",
        "outputId": "d7584451-2cf1-4d4f-90af-de460d831633"
      },
      "execution_count": null,
      "outputs": [
        {
          "output_type": "stream",
          "name": "stdout",
          "text": [
            "Adios mundo\n"
          ]
        }
      ]
    },
    {
      "cell_type": "markdown",
      "source": [
        "***TIPOS DE DATOS***"
      ],
      "metadata": {
        "id": "tWAJLqJCG6K3"
      }
    },
    {
      "cell_type": "code",
      "source": [
        "entero = 42"
      ],
      "metadata": {
        "id": "l5_s02XdHDKW"
      },
      "execution_count": null,
      "outputs": []
    },
    {
      "cell_type": "code",
      "source": [
        "flotante= 3.14159"
      ],
      "metadata": {
        "id": "ftQ8mWIAHLeb"
      },
      "execution_count": null,
      "outputs": []
    },
    {
      "cell_type": "code",
      "source": [
        "#Conversion Tipo de Datos\n",
        "\n",
        "entero = int(flotante) #Es igual a 3\n",
        "flotante = float(5) #Es igual a 5.0\n"
      ],
      "metadata": {
        "id": "W2A7yaBhHgfn"
      },
      "execution_count": null,
      "outputs": []
    },
    {
      "cell_type": "markdown",
      "source": [
        "***OPERADORES MATEMATICOS***"
      ],
      "metadata": {
        "id": "i0kpHIEC7Qtl"
      }
    },
    {
      "cell_type": "code",
      "source": [
        "a=2\n",
        "b=4\n",
        "#Suma\n",
        "print (a+b) #El resultado es  6\n",
        "\n",
        "#Resta\n",
        "print (b-a) #El resultado es 2\n",
        "\n",
        "#Division\n",
        "c = b/a #El resultado es 2\n",
        "print(c)\n",
        "\n",
        "#Division entera\n",
        "d=3\n",
        "print(d//a)\n",
        "\n",
        "#Exponenciacion\n",
        "print(a**5)\n",
        "\n",
        "#Modulo\n",
        "print(b%a)\n",
        "\n",
        "#Asignacion compuesta\n",
        "a+=b\n",
        "print(a)\n",
        "a=2\n",
        "\n",
        "#Redondeo\n",
        "e=3.14159\n",
        "print(round(e,2))\n",
        "\n",
        "#Valor absoluto\n",
        "f=a-b\n",
        "print(abs(f))"
      ],
      "metadata": {
        "colab": {
          "base_uri": "https://localhost:8080/"
        },
        "id": "DhW1vwBx7ebD",
        "outputId": "4428ec53-44a0-4e0f-ca03-bdb2c8202451"
      },
      "execution_count": 5,
      "outputs": [
        {
          "output_type": "stream",
          "name": "stdout",
          "text": [
            "6\n",
            "2\n",
            "2.0\n",
            "1\n",
            "32\n",
            "0\n",
            "6\n",
            "3.14\n",
            "2\n"
          ]
        }
      ]
    },
    {
      "cell_type": "markdown",
      "source": [
        "***VALORES STRING***"
      ],
      "metadata": {
        "id": "_ptjz_Lb_mdh"
      }
    },
    {
      "cell_type": "code",
      "source": [
        "#Concatenacion de caracteres\n",
        "saludo='Hola'\n",
        "nombre='Pedro'\n",
        "mensaje=saludo+\" , \"+nombre\n",
        "print(mensaje)\n",
        "print(saludo+nombre)"
      ],
      "metadata": {
        "colab": {
          "base_uri": "https://localhost:8080/"
        },
        "id": "RP20z5je7_1C",
        "outputId": "9a8ca095-2b5d-4295-c936-e4c76d1ef52a"
      },
      "execution_count": 6,
      "outputs": [
        {
          "output_type": "stream",
          "name": "stdout",
          "text": [
            "Hola , Pedro\n",
            "HolaPedro\n"
          ]
        }
      ]
    },
    {
      "cell_type": "code",
      "source": [
        "#Repeticion de caracteres\n",
        "repetido=saludo*3\n",
        "print(repetido)"
      ],
      "metadata": {
        "colab": {
          "base_uri": "https://localhost:8080/"
        },
        "id": "dbMQdn7YAWBP",
        "outputId": "f1c05976-c008-4911-9356-608b8fdf84fb"
      },
      "execution_count": 7,
      "outputs": [
        {
          "output_type": "stream",
          "name": "stdout",
          "text": [
            "HolaHolaHola\n"
          ]
        }
      ]
    },
    {
      "cell_type": "code",
      "source": [
        "#Indexacion\n",
        "#Obtener una variable con el septimo caracter de la variable saludo\n",
        "primer_crctr=saludo[0]\n",
        "print(primer_crctr)\n",
        "\n",
        "#Genera una variable que extrae la palabra HOLA\n",
        "\n",
        "subcadena=saludo[0:4]\n",
        "print(subcadena)"
      ],
      "metadata": {
        "colab": {
          "base_uri": "https://localhost:8080/"
        },
        "id": "EbA3DhgmAuNH",
        "outputId": "38736e01-e569-4647-fd52-52ac92e32004"
      },
      "execution_count": 11,
      "outputs": [
        {
          "output_type": "stream",
          "name": "stdout",
          "text": [
            "H\n",
            "Hola\n"
          ]
        }
      ]
    },
    {
      "cell_type": "code",
      "source": [
        "#Metodos de cadenas\n",
        "#Mayusculas\n",
        "cadena='Python es genial'\n",
        "print(cadena.upper())\n",
        "\n",
        "\n",
        "#Minusculas\n",
        "print(cadena.lower())\n",
        "\n",
        "#Reemplazo\n",
        "print(cadena.replace('genial','increible'))\n",
        "\n",
        "#Separar\n",
        "print(cadena.split(' '))\n",
        "\n",
        "print(cadena[0])\n",
        "\n",
        "cadena_separado=cadena.split(' ')\n",
        "print(cadena_separado[0])\n"
      ],
      "metadata": {
        "colab": {
          "base_uri": "https://localhost:8080/"
        },
        "id": "sYQba15yCYAb",
        "outputId": "1f964083-470b-4724-c830-de81e81a697b"
      },
      "execution_count": 15,
      "outputs": [
        {
          "output_type": "stream",
          "name": "stdout",
          "text": [
            "PYTHON ES GENIAL\n",
            "python es genial\n",
            "Python es increible\n",
            "['Python', 'es', 'genial']\n",
            "P\n",
            "Python\n"
          ]
        }
      ]
    },
    {
      "cell_type": "markdown",
      "source": [
        "**ESTRUCTURAS DE DATOS**"
      ],
      "metadata": {
        "id": "ERHtY3LaE434"
      }
    },
    {
      "cell_type": "code",
      "source": [
        "#Listas (Elementos mutables y ordenados, + usadas por su flexibilidad)\n",
        "lista = [1, 2, 3, \"cuatro\", 5.0]\n",
        "\n",
        "#Modificar elementos de lista\n",
        "lista[3]=4\n",
        "print(lista)\n",
        "\n",
        "#Insertar elementos en lista\n",
        "#Con posicion determinada\n",
        "lista.insert(3,3.3)\n",
        "print(lista)\n",
        "\n",
        "#Remover elemento\n",
        "lista.remove(5.0)\n",
        "print(lista)\n"
      ],
      "metadata": {
        "colab": {
          "base_uri": "https://localhost:8080/"
        },
        "id": "mh2s5AF9BbEh",
        "outputId": "a9fbb25b-c08f-4780-b77e-795bdf960b17"
      },
      "execution_count": 19,
      "outputs": [
        {
          "output_type": "stream",
          "name": "stdout",
          "text": [
            "[1, 2, 3, 4, 5.0]\n",
            "[1, 2, 3, 3.3, 4, 5.0]\n",
            "[1, 2, 3, 3.3, 4]\n"
          ]
        }
      ]
    }
  ]
}